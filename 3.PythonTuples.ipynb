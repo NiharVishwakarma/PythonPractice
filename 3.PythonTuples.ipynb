{
 "cells": [
  {
   "cell_type": "markdown",
   "metadata": {},
   "source": [
    "# A tuple is a collection which is Ordered and Unchangeable."
   ]
  },
  {
   "cell_type": "code",
   "execution_count": 1,
   "metadata": {},
   "outputs": [
    {
     "name": "stdout",
     "output_type": "stream",
     "text": [
      "('cherry', 'banana', 'apple')\n"
     ]
    }
   ],
   "source": [
    "onetupple = ('cherry', 'banana', 'apple')\n",
    "print(onetupple)"
   ]
  },
  {
   "cell_type": "code",
   "execution_count": 2,
   "metadata": {},
   "outputs": [
    {
     "name": "stdout",
     "output_type": "stream",
     "text": [
      "3\n"
     ]
    }
   ],
   "source": [
    "print(len(onetupple))"
   ]
  },
  {
   "cell_type": "code",
   "execution_count": 3,
   "metadata": {},
   "outputs": [
    {
     "name": "stdout",
     "output_type": "stream",
     "text": [
      "<class 'str'>\n",
      "<class 'tuple'>\n"
     ]
    }
   ],
   "source": [
    "# tuple or not\n",
    "\n",
    "tuple1 = (\"apple\")\n",
    "print(type(tuple1))\n",
    "\n",
    "tuple2 = (\"banana\",)  # adding comma \n",
    "print(type(tuple2))"
   ]
  },
  {
   "cell_type": "code",
   "execution_count": 4,
   "metadata": {},
   "outputs": [
    {
     "data": {
      "text/plain": [
       "1"
      ]
     },
     "execution_count": 4,
     "metadata": {},
     "output_type": "execute_result"
    }
   ],
   "source": [
    "onetupple.count('cherry')"
   ]
  },
  {
   "cell_type": "code",
   "execution_count": 5,
   "metadata": {},
   "outputs": [
    {
     "data": {
      "text/plain": [
       "2"
      ]
     },
     "execution_count": 5,
     "metadata": {},
     "output_type": "execute_result"
    }
   ],
   "source": [
    "onetupple.index('apple')"
   ]
  },
  {
   "cell_type": "code",
   "execution_count": 6,
   "metadata": {},
   "outputs": [
    {
     "name": "stdout",
     "output_type": "stream",
     "text": [
      "('cherry', 'orange', 'kiwi')\n"
     ]
    }
   ],
   "source": [
    "thistuple = (\"apple\", \"banana\", \"cherry\", \"orange\", \"kiwi\", \"melon\", \"mango\")\n",
    "print(thistuple[2:5])"
   ]
  },
  {
   "cell_type": "code",
   "execution_count": 7,
   "metadata": {},
   "outputs": [
    {
     "name": "stdout",
     "output_type": "stream",
     "text": [
      "Yes, Item present\n"
     ]
    }
   ],
   "source": [
    "# Check if item exists or not\n",
    "if 'apple' in thistuple:\n",
    "    print('Yes, Item present')\n",
    "else :\n",
    "    pass"
   ]
  },
  {
   "cell_type": "markdown",
   "metadata": {},
   "source": [
    "# Change Tuple Values\n",
    "Once a tuple is created, you cannot change its values. Tuples are unchangeable, or immutable as it also is called.\n",
    "But there is a workaround. You can convert the tuple into a list, change the list, and convert the list back into a tuple."
   ]
  },
  {
   "cell_type": "code",
   "execution_count": 8,
   "metadata": {},
   "outputs": [
    {
     "name": "stdout",
     "output_type": "stream",
     "text": [
      "('cherry', 'banana', 'apple')\n"
     ]
    }
   ],
   "source": [
    "print(onetupple)"
   ]
  },
  {
   "cell_type": "code",
   "execution_count": 9,
   "metadata": {},
   "outputs": [
    {
     "name": "stdout",
     "output_type": "stream",
     "text": [
      "('cherry', 'orange', 'apple')\n"
     ]
    }
   ],
   "source": [
    "x = list(onetupple)\n",
    "x[1] = 'orange'\n",
    "onetupple = tuple(x)\n",
    "print(onetupple)"
   ]
  },
  {
   "cell_type": "code",
   "execution_count": 10,
   "metadata": {},
   "outputs": [],
   "source": [
    "# similarly you can convert 'Tuple' into a 'List' and Add or Remove Items and later convert them back to \"Tuple\"."
   ]
  },
  {
   "cell_type": "markdown",
   "metadata": {},
   "source": [
    "# Tuple Unpacking "
   ]
  },
  {
   "cell_type": "code",
   "execution_count": 11,
   "metadata": {},
   "outputs": [
    {
     "name": "stdout",
     "output_type": "stream",
     "text": [
      "rice\n",
      "wheat\n",
      "['barley', 'pulses']\n"
     ]
    }
   ],
   "source": [
    "onetuple = ('rice','wheat','barley','pulses')\n",
    "(red, green, *yellow) = onetuple\n",
    "print(red)\n",
    "print(green)\n",
    "print(yellow)"
   ]
  },
  {
   "cell_type": "code",
   "execution_count": 12,
   "metadata": {},
   "outputs": [],
   "source": [
    "# Here we can see that we can use astrisk ' * '  to grab remaining items in single variable is number of variable is less than items in the tuple "
   ]
  },
  {
   "cell_type": "markdown",
   "metadata": {},
   "source": [
    "## Looping in tuples"
   ]
  },
  {
   "cell_type": "code",
   "execution_count": 13,
   "metadata": {},
   "outputs": [
    {
     "name": "stdout",
     "output_type": "stream",
     "text": [
      "('rice', 'wheat', 'barley', 'pulses')\n"
     ]
    }
   ],
   "source": [
    "print(onetuple)"
   ]
  },
  {
   "cell_type": "code",
   "execution_count": 14,
   "metadata": {},
   "outputs": [
    {
     "name": "stdout",
     "output_type": "stream",
     "text": [
      "rice\n",
      "wheat\n",
      "barley\n",
      "pulses\n"
     ]
    }
   ],
   "source": [
    "# Method 1\n",
    "\n",
    "for x in onetuple:\n",
    "    print(x)"
   ]
  },
  {
   "cell_type": "code",
   "execution_count": 16,
   "metadata": {},
   "outputs": [
    {
     "name": "stdout",
     "output_type": "stream",
     "text": [
      "rice\n",
      "wheat\n",
      "barley\n",
      "pulses\n"
     ]
    }
   ],
   "source": [
    "# Method 2\n",
    "\n",
    "for x in range(len(onetuple)):   # Here x is taking the values of index \n",
    "    print(onetuple[x])"
   ]
  },
  {
   "cell_type": "code",
   "execution_count": 17,
   "metadata": {},
   "outputs": [
    {
     "name": "stdout",
     "output_type": "stream",
     "text": [
      "rice\n",
      "wheat\n",
      "barley\n",
      "pulses\n"
     ]
    }
   ],
   "source": [
    "# Method 3 : Using While() Loop\n",
    "\n",
    "x = 0\n",
    "while x < len(onetuple):\n",
    "    print(onetuple[x])\n",
    "    x += 1"
   ]
  },
  {
   "cell_type": "markdown",
   "metadata": {},
   "source": [
    "## Join two tuples"
   ]
  },
  {
   "cell_type": "code",
   "execution_count": 18,
   "metadata": {},
   "outputs": [
    {
     "name": "stdout",
     "output_type": "stream",
     "text": [
      "(1, 2, 3, 4, 'a', 'b', 'c', 'd')\n"
     ]
    }
   ],
   "source": [
    "tuple1 = (1,2,3,4)\n",
    "tuple2 = ('a','b','c','d')\n",
    "tuple3 = tuple1 + tuple2   # here we are creating a new tuple and printing it. No changes are happening to original tuples.\n",
    "print(tuple3)"
   ]
  },
  {
   "cell_type": "markdown",
   "metadata": {},
   "source": [
    "## Multiple Tuples"
   ]
  },
  {
   "cell_type": "code",
   "execution_count": 19,
   "metadata": {},
   "outputs": [
    {
     "name": "stdout",
     "output_type": "stream",
     "text": [
      "('rice', 'wheat', 'barley', 'pulses')\n"
     ]
    }
   ],
   "source": [
    "print(onetuple)"
   ]
  },
  {
   "cell_type": "code",
   "execution_count": 20,
   "metadata": {},
   "outputs": [
    {
     "name": "stdout",
     "output_type": "stream",
     "text": [
      "('rice', 'wheat', 'barley', 'pulses', 'rice', 'wheat', 'barley', 'pulses')\n"
     ]
    }
   ],
   "source": [
    "newtuple = onetuple*2\n",
    "print(newtuple)"
   ]
  },
  {
   "cell_type": "code",
   "execution_count": null,
   "metadata": {},
   "outputs": [],
   "source": []
  }
 ],
 "metadata": {
  "kernelspec": {
   "display_name": "Python 3",
   "language": "python",
   "name": "python3"
  },
  "language_info": {
   "codemirror_mode": {
    "name": "ipython",
    "version": 3
   },
   "file_extension": ".py",
   "mimetype": "text/x-python",
   "name": "python",
   "nbconvert_exporter": "python",
   "pygments_lexer": "ipython3",
   "version": "3.8.5"
  }
 },
 "nbformat": 4,
 "nbformat_minor": 4
}
